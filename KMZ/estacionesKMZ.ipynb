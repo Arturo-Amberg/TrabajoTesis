{
 "cells": [
  {
   "cell_type": "code",
   "execution_count": 43,
   "id": "8c6ea337",
   "metadata": {},
   "outputs": [],
   "source": [
    "import zipfile\n",
    "import os\n",
    "\n",
    "kmz_file = \"KMZ/todalared.kmz\"\n",
    "kml_file = \"doc.kml\"\n",
    "\n",
    "os.chdir('c:/Users/artur/OneDrive/Documents/TrabajoTesis') \n",
    "\n",
    "\n"
   ]
  },
  {
   "cell_type": "code",
   "execution_count": 44,
   "id": "abd7e453",
   "metadata": {},
   "outputs": [
    {
     "name": "stdout",
     "output_type": "stream",
     "text": [
      "True\n"
     ]
    }
   ],
   "source": [
    "\n",
    "kmz_file = \"KMZ/todalared.kmz\"\n",
    "\n",
    "print(os.path.exists(kmz_file)) \n"
   ]
  },
  {
   "cell_type": "code",
   "execution_count": 45,
   "id": "9c6d84bd",
   "metadata": {},
   "outputs": [
    {
     "name": "stdout",
     "output_type": "stream",
     "text": [
      "['doc.kml']\n"
     ]
    }
   ],
   "source": [
    "with zipfile.ZipFile(kmz_file, 'r') as kmz:\n",
    "    print(kmz.namelist())"
   ]
  },
  {
   "cell_type": "code",
   "execution_count": 46,
   "id": "313e2282",
   "metadata": {},
   "outputs": [],
   "source": [
    "with zipfile.ZipFile(kmz_file, 'r') as kmz:\n",
    "    kmz.extractall(\"KMZ_extracted\")  # Extracts to a folder\n"
   ]
  },
  {
   "cell_type": "code",
   "execution_count": 47,
   "id": "63baa438",
   "metadata": {},
   "outputs": [],
   "source": [
    "from fastkml import kml\n",
    "\n",
    "with open(\"KMZ/doc.kml\", \"rb\") as f:\n",
    "    kml_content = f.read()\n",
    "\n",
    "k = kml.KML()\n",
    "k.from_string(kml_content)\n",
    "\n",
    "# Recursively print all placemarks and their geometry types\n",
    "def print_features(features, level=0):\n",
    "    for feature in features:\n",
    "        indent = \"  \" * level\n",
    "        print(f\"{indent}Feature name: {feature.name}, type: {feature.__class__.__name__}\")\n",
    "        if hasattr(feature, 'geometry') and feature.geometry:\n",
    "            print(f\"{indent}  Geometry type: {feature.geometry.geom_type}\")\n",
    "        if hasattr(feature, 'features') and feature.features:\n",
    "            print_features(feature.features, level + 1)\n",
    "\n",
    "print_features(k.features)\n",
    "\n",
    "\n",
    "\n"
   ]
  },
  {
   "cell_type": "code",
   "execution_count": 48,
   "id": "869abe51",
   "metadata": {},
   "outputs": [
    {
     "name": "stdout",
     "output_type": "stream",
     "text": [
      "<?xml version=\"1.0\" encoding=\"UTF-8\"?>\n",
      "<kml xmlns=\"http://www.opengis.net/kml/2.2\" xmlns:gx=\"http://www.google.com/kml/ext/2.2\" xmlns:kml=\"http://www.opengis.net/kml/2.2\" xmlns:atom=\"http://www.w3.org/2005/Atom\">\n",
      "<Document>\n",
      "\t<name>todalared.kmz</name>\n",
      "\t<Style id=\"sn_E1703\">\n",
      "\t\t<IconStyle>\n",
      "\t\t\t<scale>0.7</scale>\n",
      "\t\t\t<Icon>\n",
      "\t\t\t\t<href>http://maps.google.com/mapfiles/kml/paddle/E.png</href>\n",
      "\t\t\t</Icon>\n",
      "\t\t\t<hotSpot x=\"32\" y=\"1\" xunits=\"pixels\" yunits=\"pixels\"/>\n",
      "\t\t</IconStyle>\n",
      "\t\t<LabelStyle>\n",
      "\t\t\t<scale>0.7</scale>\n",
      "\t\t</LabelStyle>\n",
      "\t\t<ListStyle>\n",
      "\t\t\t<ItemIcon>\n",
      "\t\t\t\t<href>http://maps.google.com/mapfiles/kml/paddle/E-lv.png</href>\n",
      "\t\t\t</ItemIcon>\n",
      "\t\t</ListStyle>\n",
      "\t\t<LineStyle>\n",
      "\t\t\t<color>ff0000ff</color>\n",
      "\t\t\t<width>8</width>\n",
      "\t\t</LineStyle>\n",
      "\t\t<PolyStyle>\n",
      "\t\t\t<color>7f00ffff</color>\n",
      "\t\t</PolyStyle>\n",
      "\t</Style>\n",
      "\t<Style id=\"sh_E620\">\n",
      "\t\t<IconStyle>\n",
      "\t\t\t<scale>0.827274</scale>\n",
      "\t\t\t<Icon>\n",
      "\t\t\t\t<href>http://maps.google.com/mapfiles/kml/paddle/E.png</href>\n",
      "\t\t\t</Icon>\n",
      "\t\t\t<hotSpot x=\"32\" y=\"1\" xunits=\"pixels\" yunits=\"pixels\"/>\n",
      "\t\t</IconStyle>\n",
      "\t\t<LabelStyle>\n",
      "\t\t\t<scale>0.7</scale>\n",
      "\t\t</LabelStyle>\n",
      "\t\t<ListStyle>\n",
      "\t\t\t<ItemIcon>\n",
      "\t\t\t\t<href>http://maps.google.com/mapfiles/kml/paddle/E-lv.png</href>\n",
      "\t\t\t</ItemIcon>\n",
      "\t\t</ListStyle>\n",
      "\t</Style>\n",
      "\t<Style id=\"sn_E2902\">\n",
      "\t\t<IconStyle>\n",
      "\t\t\t<scale>0.7</scale>\n",
      "\t\t\t<Icon>\n",
      "\t\t\t\t<href>http://maps.google.com/mapfiles/kml/paddle/E.png</href>\n",
      "\t\t\t</Icon>\n",
      "\t\t\t<hotSpot x=\"32\" y=\"1\" xunits=\"pixels\" yunits=\"pixels\"/>\n",
      "\t\t</IconStyle>\n",
      "\t\t<LabelStyle>\n",
      "\t\t\t<scale>0.7</scale>\n",
      "\t\t</LabelStyle>\n",
      "\t\t<ListStyle>\n",
      "\t\t\t<ItemIcon>\n",
      "\t\t\t\t<href>http://maps.google.com/mapfiles/kml/paddle/E-lv.png</href>\n",
      "\t\t\t</ItemIcon>\n",
      "\t\t</ListStyle>\n",
      "\t\t<LineStyle>\n",
      "\t\t\t<color>ff0000ff</color>\n",
      "\t\t\t<width>8</width>\n",
      "\t\t</LineStyle>\n",
      "\t\t<PolyStyle>\n",
      "\t\t\t<color>7f00ffff</color>\n",
      "\t\t</PolyStyle>\n",
      "\t</Style>\n",
      "\t<StyleMap id=\"msn_water11\">\n",
      "\t\t<Pair>\n",
      "\t\t\t<key>normal</key>\n",
      "\t\t\t<styleUrl>#sn_water3</styleUrl>\n",
      "\t\t</Pair>\n",
      "\t\t<Pair>\n",
      "\t\t\t<key>highlight</key>\n",
      "\t\t\t<styleUrl>#sh_water00</styleUrl>\n",
      "\t\t</Pair>\n",
      "\t</StyleMap>\n",
      "\t<Style id=\"sh_water\">\n",
      "\t\t<IconStyle>\n",
      "\t\t\t<scale>0.82727\n"
     ]
    }
   ],
   "source": [
    "import zipfile\n",
    "\n",
    "kmz_file = \"KMZ/todalared.kmz\"\n",
    "\n",
    "# Abrir KMZ y extraer KML\n",
    "with zipfile.ZipFile(kmz_file, 'r') as kmz:\n",
    "    kml_names = [name for name in kmz.namelist() if name.endswith('.kml')]\n",
    "    kml_content = kmz.read(kml_names[0])\n",
    "\n",
    "# Mostrar los primeros 2000 caracteres del KML para inspección\n",
    "print(kml_content[:2000].decode('utf-8', errors='ignore'))\n"
   ]
  },
  {
   "cell_type": "code",
   "execution_count": 49,
   "id": "76748732",
   "metadata": {},
   "outputs": [
    {
     "name": "stdout",
     "output_type": "stream",
     "text": [
      "                                                    name  longitude   latitude\n",
      "0      Red Troncal ALAMEDA (Santiago)-PUERTO (Valpara... -70.678720 -33.459852\n",
      "1      Red Troncal ALAMEDA (Santiago)-PUERTO (Valpara... -70.678685 -33.458914\n",
      "2      Red Troncal ALAMEDA (Santiago)-PUERTO (Valpara... -70.678677 -33.458612\n",
      "3      Red Troncal ALAMEDA (Santiago)-PUERTO (Valpara... -70.678719 -33.458219\n",
      "4      Red Troncal ALAMEDA (Santiago)-PUERTO (Valpara... -70.678887 -33.457018\n",
      "...                                                  ...        ...        ...\n",
      "96596                           Est ARICA (FFCC a Tacna) -70.317542 -18.473507\n",
      "96597                                          Pte LLUTA -70.304477 -18.403892\n",
      "96598                                     Est CHACALLUTA -70.325011 -18.318546\n",
      "96599               Hito Límite Internacional Chile-Perú -70.325528 -18.313046\n",
      "96600                                      Est ALPATACAL -67.248522 -33.554839\n",
      "\n",
      "[96601 rows x 3 columns]\n"
     ]
    }
   ],
   "source": [
    "from lxml import etree\n",
    "import zipfile\n",
    "import pandas as pd\n",
    "\n",
    "# 1️⃣ Open KMZ and extract KML\n",
    "kmz_file = \"KMZ/todalared.kmz\"\n",
    "with zipfile.ZipFile(kmz_file, 'r') as kmz:\n",
    "    kml_names = [name for name in kmz.namelist() if name.endswith('.kml')]\n",
    "    kml_content = kmz.read(kml_names[0])\n",
    "\n",
    "# 2️⃣ Parse XML\n",
    "tree = etree.fromstring(kml_content)\n",
    "\n",
    "# 3️⃣ Namespaces\n",
    "ns = {\n",
    "    \"kml\": \"http://www.opengis.net/kml/2.2\",\n",
    "    \"gx\": \"http://www.google.com/kml/ext/2.2\"\n",
    "}\n",
    "\n",
    "stations = []\n",
    "\n",
    "# 4️⃣ Traverse all Placemark elements\n",
    "for placemark in tree.findall(\".//kml:Placemark\", namespaces=ns):\n",
    "    name_elem = placemark.find(\"kml:name\", namespaces=ns)\n",
    "    name = name_elem.text if name_elem is not None else \"Unknown\"\n",
    "\n",
    "    # Find all coordinates inside this Placemark\n",
    "    for coord_elem in placemark.findall(\".//kml:coordinates\", namespaces=ns):\n",
    "        coords_text = coord_elem.text.strip()\n",
    "        for line in coords_text.split():\n",
    "            parts = line.strip().replace(\",\", \" \").split()\n",
    "            if len(parts) >= 2:\n",
    "                lon, lat = map(float, parts[:2])\n",
    "                stations.append({\n",
    "                    \"name\": name,\n",
    "                    \"longitude\": lon,\n",
    "                    \"latitude\": lat\n",
    "                })\n",
    "\n",
    "# 5️⃣ Save to CSV\n",
    "df_stations = pd.DataFrame(stations)\n",
    "df_stations.to_csv(\"estaciones.csv\", index=False)\n",
    "print(df_stations)\n",
    "\n",
    "\n",
    "\n"
   ]
  },
  {
   "cell_type": "code",
   "execution_count": 50,
   "id": "5c7d10ae",
   "metadata": {},
   "outputs": [
    {
     "name": "stdout",
     "output_type": "stream",
     "text": [
      "                         name  longitude   latitude\n",
      "0       Est ALAMEDA (Central) -70.679052 -33.451823\n",
      "1            Est YUNGAY NORTE -70.681263 -33.428082\n",
      "2                   Est RENCA -70.690631 -33.400383\n",
      "3               Est QUILICURA -70.705348 -33.364199\n",
      "4                  Est COLINA -70.769486 -33.291047\n",
      "..                        ...        ...        ...\n",
      "762             Est LLAU-LLAU -73.767505 -42.462248\n",
      "763                Est CASTRO -73.759805 -42.481223\n",
      "764  Est ARICA (FFCC a Tacna) -70.317542 -18.473507\n",
      "765            Est CHACALLUTA -70.325011 -18.318546\n",
      "766             Est ALPATACAL -67.248522 -33.554839\n",
      "\n",
      "[767 rows x 3 columns]\n"
     ]
    }
   ],
   "source": [
    "# Filtrar solo filas con \"Est\" en el nombre, excluyendo \"Ex-Est\"\n",
    "df_estaciones_clean = df_stations[\n",
    "    df_stations['name'].str.contains(\"Est\", case=True, na=False) &\n",
    "    ~df_stations['name'].str.contains(\"Ex-Est\", case=True, na=False)\n",
    "].copy()\n",
    "\n",
    "# Eliminar duplicados por nombre y coordenadas (opcional)\n",
    "df_estaciones_clean = df_estaciones_clean.drop_duplicates(subset=['name','longitude','latitude'])\n",
    "\n",
    "# Resetear índice\n",
    "df_estaciones_clean.reset_index(drop=True, inplace=True)\n",
    "\n",
    "# Guardar CSV limpio\n",
    "df_estaciones_clean.to_csv(\"estaciones_filtradas.csv\", index=False)\n",
    "\n",
    "print(df_estaciones_clean)\n"
   ]
  },
  {
   "cell_type": "code",
   "execution_count": 51,
   "id": "5b09fc22",
   "metadata": {},
   "outputs": [],
   "source": [
    "df_stations.to_csv(\"estaciones2.csv\", index=False)\n"
   ]
  }
 ],
 "metadata": {
  "kernelspec": {
   "display_name": "Python 3",
   "language": "python",
   "name": "python3"
  },
  "language_info": {
   "codemirror_mode": {
    "name": "ipython",
    "version": 3
   },
   "file_extension": ".py",
   "mimetype": "text/x-python",
   "name": "python",
   "nbconvert_exporter": "python",
   "pygments_lexer": "ipython3",
   "version": "3.11.5"
  }
 },
 "nbformat": 4,
 "nbformat_minor": 5
}

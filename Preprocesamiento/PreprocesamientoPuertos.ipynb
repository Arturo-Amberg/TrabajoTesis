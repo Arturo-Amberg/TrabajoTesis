{
 "cells": [
  {
   "cell_type": "code",
   "execution_count": 25,
   "id": "de3ce57a",
   "metadata": {},
   "outputs": [],
   "source": [
    "import pandas as pd\n",
    "import re\n",
    "import os\n",
    "os.chdir('C:/Users/admin/OneDrive/Documents/TrabajoTesis')"
   ]
  },
  {
   "cell_type": "code",
   "execution_count": 26,
   "id": "df2bdcc8",
   "metadata": {},
   "outputs": [],
   "source": [
    "df = pd.read_excel(\"data/DatosPuertos.xlsx\")"
   ]
  },
  {
   "cell_type": "code",
   "execution_count": 27,
   "id": "89e54717",
   "metadata": {},
   "outputs": [
    {
     "name": "stdout",
     "output_type": "stream",
     "text": [
      "   portNumber             portName    latitude   longitude harborSize\n",
      "0       14660          Antofagasta  23°39'00\"S  70°25'00\"W          M\n",
      "1       14110    Bahia Agua Fresca  53°23'00\"S  70°58'00\"W          V\n",
      "2       14340    Bahia De Valdivia  39°48'00\"S  73°15'00\"W          S\n",
      "3       14500  Bahia De Valparaiso  33°02'00\"S  71°37'00\"W          M\n",
      "4       14140         Bahia Harris  53°51'00\"S  70°27'00\"W          V\n"
     ]
    }
   ],
   "source": [
    "import pandas as pd\n",
    "\n",
    "# Assuming your dataframe is called df\n",
    "columns_to_keep = ['portNumber', 'portName', 'latitude', 'longitude', 'harborSize']\n",
    "\n",
    "# Keep only these columns\n",
    "df = df[columns_to_keep]\n",
    "\n",
    "# Check the result\n",
    "print(df.head())\n"
   ]
  },
  {
   "cell_type": "code",
   "execution_count": 28,
   "id": "7fad7721",
   "metadata": {},
   "outputs": [],
   "source": [
    "import re\n",
    "import pandas as pd\n",
    "\n",
    "def dms_to_decimal(dms_str, lon_correction=0.008):\n",
    "\n",
    "    if pd.isna(dms_str) or not isinstance(dms_str, str):\n",
    "        return None\n",
    "\n",
    "    try:\n",
    "        # Limpiar símbolos y espacios\n",
    "        s = (dms_str.strip()\n",
    "                     .replace('\"', '')\n",
    "                     .replace(\"º\", \"°\")\n",
    "                     .replace(\"′\", \"'\")\n",
    "                     .replace(\",\", \".\")\n",
    "                     .replace(\"”\", \"\")\n",
    "                     .replace(\"’\", \"'\"))\n",
    "        s = re.sub(r'\\s+', '', s)\n",
    "\n",
    "        # Extraer grados, minutos, segundos y dirección\n",
    "        match = re.match(r'(\\d+(?:\\.\\d+)?)°(\\d+(?:\\.\\d+)?)?\\'?(\\d+(?:\\.\\d+)?)?([NSEW])', s, re.IGNORECASE)\n",
    "        if not match:\n",
    "            return None\n",
    "\n",
    "        deg, minutes, seconds, direction = match.groups()\n",
    "        deg = float(deg)\n",
    "        minutes = float(minutes) if minutes else 0.0\n",
    "        seconds = float(seconds) if seconds else 0.0\n",
    "\n",
    "        dec = deg + minutes / 60 + seconds / 3600\n",
    "\n",
    "        # Aplicar signo según hemisferio\n",
    "        if direction.upper() in ['S', 'W']:\n",
    "            dec = -dec\n",
    "\n",
    "        # Aplicar corrección si es longitud\n",
    "        if direction.upper() in ['E', 'W']:\n",
    "            dec += lon_correction\n",
    "\n",
    "        return round(dec, 8)\n",
    "\n",
    "    except Exception:\n",
    "        return None\n"
   ]
  },
  {
   "cell_type": "code",
   "execution_count": 29,
   "id": "abe5380f",
   "metadata": {},
   "outputs": [],
   "source": [
    "df[\"latitude\"] = df[\"latitude\"].apply(dms_to_decimal)\n",
    "df[\"longitude\"] = df[\"longitude\"].apply(dms_to_decimal)\n",
    "\n",
    "# Filtrar filas que no se pudieron convertir\n",
    "df = df.dropna(subset=[\"latitude\", \"longitude\"])"
   ]
  },
  {
   "cell_type": "code",
   "execution_count": 30,
   "id": "48b60956",
   "metadata": {},
   "outputs": [],
   "source": [
    "df.to_csv(\"Bases/puertos.csv\", index=False)"
   ]
  }
 ],
 "metadata": {
  "kernelspec": {
   "display_name": "Python 3",
   "language": "python",
   "name": "python3"
  },
  "language_info": {
   "codemirror_mode": {
    "name": "ipython",
    "version": 3
   },
   "file_extension": ".py",
   "mimetype": "text/x-python",
   "name": "python",
   "nbconvert_exporter": "python",
   "pygments_lexer": "ipython3",
   "version": "3.13.7"
  }
 },
 "nbformat": 4,
 "nbformat_minor": 5
}

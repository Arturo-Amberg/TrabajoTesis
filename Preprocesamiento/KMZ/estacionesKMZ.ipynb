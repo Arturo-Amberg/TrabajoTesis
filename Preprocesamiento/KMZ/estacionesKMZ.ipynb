{
 "cells": [
  {
   "cell_type": "code",
   "execution_count": 2,
   "id": "8c6ea337",
   "metadata": {},
   "outputs": [],
   "source": [
    "import zipfile\n",
    "from lxml import etree\n",
    "import pandas as pd\n",
    "import os\n",
    "from fastkml import kml\n",
    "\n",
    "kmz_file = \"Preprocesamiento/KMZ/todalared.kmz\"\n",
    "kml_file = \"doc.kml\"\n",
    "\n",
    "#os.chdir('c:/Users/artur/OneDrive/Documents/TrabajoTesis') \n",
    "os.chdir('c:/Users/admin/OneDrive/Documents/TrabajoTesis') "
   ]
  },
  {
   "cell_type": "code",
   "execution_count": 3,
   "id": "9c6d84bd",
   "metadata": {},
   "outputs": [
    {
     "name": "stdout",
     "output_type": "stream",
     "text": [
      "['doc.kml']\n"
     ]
    }
   ],
   "source": [
    "# Abrir KMZ y listar contenidos en formato kml (html)\n",
    "with zipfile.ZipFile(kmz_file, 'r') as kmz:\n",
    "    print(kmz.namelist())\n",
    "\n",
    "with zipfile.ZipFile(kmz_file, 'r') as kmz:\n",
    "    kmz.extractall(\"Preprocesamiento/KMZ\")  "
   ]
  },
  {
   "cell_type": "code",
   "execution_count": 4,
   "id": "63baa438",
   "metadata": {},
   "outputs": [],
   "source": [
    "with open(\"Preprocesamiento/KMZ/doc.kml\", \"rb\") as f:\n",
    "    kml_content = f.read()\n",
    "\n",
    "k = kml.KML()\n",
    "k.from_string(kml_content)\n",
    "\n",
    "# Recursively print all placemarks and their geometry types\n",
    "def print_features(features, level=0):\n",
    "    for feature in features:\n",
    "        indent = \"  \" * level\n",
    "        print(f\"{indent}Feature name: {feature.name}, type: {feature.__class__.__name__}\")\n",
    "        if hasattr(feature, 'geometry') and feature.geometry:\n",
    "            print(f\"{indent}  Geometry type: {feature.geometry.geom_type}\")\n",
    "        if hasattr(feature, 'features') and feature.features:\n",
    "            print_features(feature.features, level + 1)\n",
    "\n",
    "print_features(k.features)\n",
    "\n",
    "\n",
    "\n"
   ]
  },
  {
   "cell_type": "code",
   "execution_count": 5,
   "id": "869abe51",
   "metadata": {},
   "outputs": [],
   "source": [
    "# Abrir KMZ y extraer KML\n",
    "with zipfile.ZipFile(kmz_file, 'r') as kmz:\n",
    "    kml_names = [name for name in kmz.namelist() if name.endswith('.kml')]\n",
    "    kml_content = kmz.read(kml_names[0])\n"
   ]
  },
  {
   "cell_type": "code",
   "execution_count": 6,
   "id": "76748732",
   "metadata": {},
   "outputs": [],
   "source": [
    "# 1️⃣ Open KMZ and extract KML\n",
    "with zipfile.ZipFile(kmz_file, 'r') as kmz:\n",
    "    kml_names = [name for name in kmz.namelist() if name.endswith('.kml')]\n",
    "    kml_content = kmz.read(kml_names[0])\n",
    "\n",
    "# 2️⃣ Parse XML\n",
    "tree = etree.fromstring(kml_content)\n",
    "\n",
    "# 3️⃣ Namespaces\n",
    "ns = {\n",
    "    \"kml\": \"http://www.opengis.net/kml/2.2\",\n",
    "    \"gx\": \"http://www.google.com/kml/ext/2.2\"\n",
    "}\n",
    "\n",
    "stations = []\n",
    "\n",
    "# 4️⃣ Traverse all Placemark elements\n",
    "for placemark in tree.findall(\".//kml:Placemark\", namespaces=ns):\n",
    "    name_elem = placemark.find(\"kml:name\", namespaces=ns)\n",
    "    name = name_elem.text if name_elem is not None else \"Unknown\"\n",
    "\n",
    "    # Find all coordinates inside this Placemark\n",
    "    for coord_elem in placemark.findall(\".//kml:coordinates\", namespaces=ns):\n",
    "        coords_text = coord_elem.text.strip()\n",
    "        for line in coords_text.split():\n",
    "            parts = line.strip().replace(\",\", \" \").split()\n",
    "            if len(parts) >= 2:\n",
    "                lon, lat = map(float, parts[:2])\n",
    "                stations.append({\n",
    "                    \"name\": name,\n",
    "                    \"longitude\": lon,\n",
    "                    \"latitude\": lat\n",
    "                })\n",
    "\n",
    "df_stations = pd.DataFrame(stations)\n",
    "\n",
    "\n",
    "\n"
   ]
  },
  {
   "cell_type": "code",
   "execution_count": 7,
   "id": "5c7d10ae",
   "metadata": {},
   "outputs": [
    {
     "name": "stdout",
     "output_type": "stream",
     "text": [
      "                         name  longitude   latitude\n",
      "0       Est ALAMEDA (Central) -70.679052 -33.451823\n",
      "1            Est YUNGAY NORTE -70.681263 -33.428082\n",
      "2                   Est RENCA -70.690631 -33.400383\n",
      "3               Est QUILICURA -70.705348 -33.364199\n",
      "4                  Est COLINA -70.769486 -33.291047\n",
      "..                        ...        ...        ...\n",
      "737             Est LLAU-LLAU -73.767505 -42.462248\n",
      "738                Est CASTRO -73.759805 -42.481223\n",
      "739  Est ARICA (FFCC a Tacna) -70.317542 -18.473507\n",
      "740            Est CHACALLUTA -70.325011 -18.318546\n",
      "741             Est ALPATACAL -67.248522 -33.554839\n",
      "\n",
      "[742 rows x 3 columns]\n"
     ]
    }
   ],
   "source": [
    "# Filtrar filas para solo dejar las que son estaciones\n",
    "df_estaciones_clean = df_stations[\n",
    "    df_stations['name'].str.contains(\"Est\", case=True, na=False) &\n",
    "    ~df_stations['name'].str.contains(\"Ex-Est\", case=True, na=False) &\n",
    "    ~df_stations['name'].str.contains(\"Variante a Estación de Transferencia\", case=True, na=False)\n",
    "].copy()\n",
    "\n",
    "# Eliminar duplicados por nombre y coordenadas (opcional)\n",
    "df_estaciones_clean = df_estaciones_clean.drop_duplicates(subset=['name','longitude','latitude'])\n",
    "\n",
    "# Resetear índice\n",
    "df_estaciones_clean.reset_index(drop=True, inplace=True)\n",
    "\n",
    "# Guardar CSV limpio\n",
    "df_estaciones_clean.to_csv(\"Bases/estaciones.csv\", index=False)\n",
    "\n",
    "print(df_estaciones_clean)\n"
   ]
  }
 ],
 "metadata": {
  "kernelspec": {
   "display_name": "Python 3",
   "language": "python",
   "name": "python3"
  },
  "language_info": {
   "codemirror_mode": {
    "name": "ipython",
    "version": 3
   },
   "file_extension": ".py",
   "mimetype": "text/x-python",
   "name": "python",
   "nbconvert_exporter": "python",
   "pygments_lexer": "ipython3",
   "version": "3.13.7"
  }
 },
 "nbformat": 4,
 "nbformat_minor": 5
}

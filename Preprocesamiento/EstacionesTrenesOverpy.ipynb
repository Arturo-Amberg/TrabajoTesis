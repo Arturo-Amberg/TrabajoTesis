{
 "cells": [
  {
   "cell_type": "code",
   "execution_count": 1,
   "id": "2429bdb7",
   "metadata": {},
   "outputs": [
    {
     "name": "stdout",
     "output_type": "stream",
     "text": [
      "Downloading potential mining/freight train stations from OpenStreetMap...\n",
      "✅ Found 292 potential stations.\n",
      "📁 Saved to potential_mining_train_stations_north_chile.csv\n"
     ]
    }
   ],
   "source": [
    "import overpy\n",
    "import pandas as pd\n",
    "\n",
    "# Initialize Overpass API\n",
    "api = overpy.Overpass()\n",
    "\n",
    "# Bounding box: S, W, N, E (from Chillán to Arica)\n",
    "south = -36.6   # Chillán\n",
    "north = -17.5   # Arica\n",
    "west = -71.5    # Pacific coast\n",
    "east = -66.5    # Border with Bolivia\n",
    "\n",
    "# Overpass query: passenger + freight + industrial stations\n",
    "query = f\"\"\"\n",
    "(\n",
    "  node[\"railway\"=\"station\"]({south},{west},{north},{east});\n",
    "  node[\"railway\"=\"station\"][\"usage\"=\"freight\"]({south},{west},{north},{east});\n",
    "  node[\"railway\"=\"station\"][\"industrial\"=\"yes\"]({south},{west},{north},{east});\n",
    ");\n",
    "out;\n",
    "\"\"\"\n",
    "\n",
    "print(\"Downloading potential mining/freight train stations from OpenStreetMap...\")\n",
    "result = api.query(query)\n",
    "\n",
    "# Convert to DataFrame\n",
    "data = []\n",
    "for node in result.nodes:\n",
    "    data.append({\n",
    "        \"name\": node.tags.get(\"name\", \"unnamed\"),\n",
    "        \"railway\": node.tags.get(\"railway\", \"unknown\"),\n",
    "        \"usage\": node.tags.get(\"usage\", \"unknown\"),\n",
    "        \"industrial\": node.tags.get(\"industrial\", \"unknown\"),\n",
    "        \"lat\": node.lat,\n",
    "        \"lon\": node.lon\n",
    "    })\n",
    "\n",
    "df = pd.DataFrame(data)\n",
    "print(f\"✅ Found {len(df)} potential stations.\")\n",
    "df.to_csv(\"potential_mining_train_stations_north_chile.csv\", index=False)\n",
    "print(\"📁 Saved to potential_mining_train_stations_north_chile.csv\")"
   ]
  },
  {
   "cell_type": "code",
   "execution_count": null,
   "id": "274a5328",
   "metadata": {},
   "outputs": [],
   "source": []
  }
 ],
 "metadata": {
  "kernelspec": {
   "display_name": "Python 3",
   "language": "python",
   "name": "python3"
  },
  "language_info": {
   "codemirror_mode": {
    "name": "ipython",
    "version": 3
   },
   "file_extension": ".py",
   "mimetype": "text/x-python",
   "name": "python",
   "nbconvert_exporter": "python",
   "pygments_lexer": "ipython3",
   "version": "3.13.7"
  }
 },
 "nbformat": 4,
 "nbformat_minor": 5
}
